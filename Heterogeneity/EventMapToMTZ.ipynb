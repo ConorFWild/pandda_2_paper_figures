{
 "cells": [
  {
   "cell_type": "code",
   "execution_count": 18,
   "id": "19de84b3-7e2b-4ce5-a533-2097f02c0ceb",
   "metadata": {},
   "outputs": [],
   "source": [
    "import gemmi\n",
    "import numpy as np"
   ]
  },
  {
   "cell_type": "code",
   "execution_count": 23,
   "id": "dd2cfc3b-38f7-4e7c-8f0f-4a3cfba94deb",
   "metadata": {},
   "outputs": [],
   "source": [
    "class File:\n",
    "    def __init__(self, name, path, res, out):\n",
    "        self.name = name\n",
    "        self.path = path\n",
    "        self.res = res\n",
    "        self.out = out\n",
    "\n",
    "file_datas=[\n",
    "    File(\n",
    "        'BRD1A-x324-1',\n",
    "        '/dls/data2temp01/labxchem/data/2017/lb18145-17/processing/edanalyzer/output/pandda_new_score/panddas_new_score/BRD1A/processed_datasets/BRD1A-x324/BRD1A-x324-event_1_1-BDC_0.19_map.native.ccp4',\n",
    "        1.58,\n",
    "        './BRD1A-x324-1.mtz'\n",
    "    ),\n",
    "    File(\n",
    "        'BRD1A-x489-1',\n",
    "        '/dls/data2temp01/labxchem/data/2017/lb18145-17/processing/edanalyzer/output/pandda_new_score/panddas_new_score/JMJD2DA/processed_datasets/JMJD2DA-x489/JMJD2DA-x489-event_1_1-BDC_0.14_map.native.ccp4',\n",
    "        1.39,\n",
    "        './BRD1A-x489-1.mtz'\n",
    "    ),\n",
    "    \n",
    "]"
   ]
  },
  {
   "cell_type": "code",
   "execution_count": 24,
   "id": "3d71f9ed-2a57-4f39-8cc9-dfe4c523bff8",
   "metadata": {},
   "outputs": [
    {
     "name": "stdout",
     "output_type": "stream",
     "text": [
      "BRD1A-x324-1\n",
      "./BRD1A-x324-1.mtz\n",
      "<gemmi.Mtz with 5 columns, 169036 reflections>\n",
      "[[-35.          0.          1.         68.45931   312.57587  ]\n",
      " [-34.         -8.          1.          6.8419704 171.36684  ]\n",
      " [-34.         -8.          2.         18.004688  248.51189  ]\n",
      " ...\n",
      " [ 35.          0.          0.         70.31522    71.74811  ]\n",
      " [ 35.          0.          1.         59.751133   94.85769  ]\n",
      " [ 35.          1.          0.         72.15413    91.06559  ]]\n",
      "['H', 'K', 'L', 'FWT', 'PHWT']\n",
      "<nanobind.nb_bound_method object at 0x7fc4da6ca840>\n",
      "\n",
      "BRD1A-x489-1\n",
      "./BRD1A-x489-1.mtz\n",
      "<gemmi.Mtz with 5 columns, 593833 reflections>\n",
      "[[-51.         -5.          1.          6.9722643 357.77905  ]\n",
      " [-51.         -5.          2.          6.8626976  34.98955  ]\n",
      " [-51.         -5.          3.          6.1063886  75.233    ]\n",
      " ...\n",
      " [ 51.          5.          1.          3.023185   59.90173  ]\n",
      " [ 51.          5.          2.          2.0645068 326.99414  ]\n",
      " [ 51.          5.          3.          7.7230453 337.1964   ]]\n",
      "['H', 'K', 'L', 'FWT', 'PHWT']\n",
      "<nanobind.nb_bound_method object at 0x7fc4da582240>\n",
      "\n"
     ]
    }
   ],
   "source": [
    "# RESOLUTION_LIMIT = 1.5  # set 0 for no limit\n",
    "\n",
    "for file in file_datas:\n",
    "    print(file.name)\n",
    "    m = gemmi.read_ccp4_map(file.path, )\n",
    "    m.setup(float(\"nan\"))\n",
    "    # ccp4.setup(0.0)\n",
    "\n",
    "    grid = m.grid\n",
    "    arr = np.array(grid, copy=False)\n",
    "    arr[np.isnan(arr)] = 0.0\n",
    "\n",
    "    m.update_ccp4_header(2, True)\n",
    "    sf = gemmi.transform_map_to_f_phi(m.grid,)\n",
    "    data = sf.prepare_asu_data(dmin=file.res)\n",
    "    \n",
    "    mtz = gemmi.Mtz(with_base=True)\n",
    "    mtz.spacegroup = sf.spacegroup\n",
    "    mtz.set_cell_for_all(sf.unit_cell)\n",
    "    mtz.add_dataset('unknown')\n",
    "    mtz.add_column('FWT', 'F')\n",
    "    mtz.add_column('PHWT', 'P')\n",
    "    mtz.set_data(data)\n",
    "    mtz.write_to_file(file.out)\n",
    "    print(file.out)\n",
    "    print(mtz)\n",
    "    print(mtz.array)\n",
    "    print(mtz.column_labels())\n",
    "    print(mtz.get_cell)\n",
    "    print(mtz.spacegroup_name)"
   ]
  },
  {
   "cell_type": "code",
   "execution_count": null,
   "id": "37e5fe2c-7b61-4ee6-8da4-a9652e0bb178",
   "metadata": {},
   "outputs": [],
   "source": []
  }
 ],
 "metadata": {
  "kernelspec": {
   "display_name": "Python 3 (ipykernel)",
   "language": "python",
   "name": "python3"
  },
  "language_info": {
   "codemirror_mode": {
    "name": "ipython",
    "version": 3
   },
   "file_extension": ".py",
   "mimetype": "text/x-python",
   "name": "python",
   "nbconvert_exporter": "python",
   "pygments_lexer": "ipython3",
   "version": "3.13.5"
  }
 },
 "nbformat": 4,
 "nbformat_minor": 5
}
